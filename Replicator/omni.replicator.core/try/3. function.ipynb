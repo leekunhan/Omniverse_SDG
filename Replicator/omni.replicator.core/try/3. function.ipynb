{
 "cells": [
  {
   "cell_type": "code",
   "execution_count": null,
   "metadata": {},
   "outputs": [],
   "source": [
    "import omni.replicator.core as rep\n",
    "import numpy as np\n",
    "\n",
    "with rep.new_layer():\n",
    "    rep.set_global_seed(np.random.randint(0, 1000))\n",
    "    # Create light\n",
    "    distance_light = rep.create.light(\n",
    "        position = (0, 0, 10),\n",
    "        rotation=(0, 0, 0),\n",
    "        intensity=300000,\n",
    "        temperature=6500,\n",
    "        light_type=\"cylinder\")\n",
    "\n",
    "    # Create ground plane\n",
    "    plane = rep.create.plane(\n",
    "        position=(0, 0, 0),\n",
    "        rotation=(0, 0, 0),\n",
    "        scale=50,\n",
    "        semantics=[(\"class\", \"ground\")]\n",
    "        )\n",
    "\n",
    "    torus = rep.create.torus(\n",
    "            position=(0, 0, 0),\n",
    "            count=1,\n",
    "            scale = 10,\n",
    "            semantics=[(\"shape\", \"torus\")]\n",
    "        )"
   ]
  },
  {
   "cell_type": "code",
   "execution_count": null,
   "metadata": {},
   "outputs": [],
   "source": [
    "mat = rep.create.material_omnipbr(\n",
    "        diffuse=rep.distribution.uniform((0, 0, 0), (1, 1, 1)),\n",
    "        roughness=rep.distribution.uniform(0, 1),\n",
    "        metallic=rep.distribution.choice([0, 1]),\n",
    "        emissive_color=rep.distribution.uniform((0, 0, 0.5), (0, 0, 1)),\n",
    "        emissive_intensity=rep.distribution.uniform(0, 1000),\n",
    "        count = 10\n",
    "        )"
   ]
  },
  {
   "cell_type": "code",
   "execution_count": null,
   "metadata": {},
   "outputs": [],
   "source": [
    "def mat_change():\n",
    "        with torus:\n",
    "            rep.modify.pose(position=rep.distribution.uniform((-25, -25, 0), (25, 25, 0)),\n",
    "                            rotation = rep.distribution.uniform((0, 0, -180),(0, 0, 180)))\n",
    "            rep.randomizer.materials(mat)\n",
    "rep.randomizer.register(mat_change)"
   ]
  },
  {
   "cell_type": "code",
   "execution_count": null,
   "metadata": {},
   "outputs": [],
   "source": [
    "with rep.trigger.on_frame(max_execs = 100, interval =5):\n",
    "    rep.randomizer.mat_change()"
   ]
  }
 ],
 "metadata": {
  "language_info": {
   "name": "python"
  }
 },
 "nbformat": 4,
 "nbformat_minor": 2
}
