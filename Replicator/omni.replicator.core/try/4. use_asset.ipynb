{
 "cells": [
  {
   "cell_type": "markdown",
   "metadata": {},
   "source": [
    "Add A distance light  \n",
    "Add a ground plane  \n",
    "Add Cardbox_A1"
   ]
  },
  {
   "cell_type": "code",
   "execution_count": null,
   "metadata": {},
   "outputs": [],
   "source": [
    "import omni.replicator.core as rep\n",
    "import numpy as np\n",
    "\n",
    "with rep.new_layer():\n",
    "    rep.set_global_seed(np.random.randint(0, 1000))\n",
    "    # get box\n",
    "    def rand_box():\n",
    "        box = rep.get.xform (path_pattern = \"/World/Cardbox_A1\")\n",
    "        with box :\n",
    "            rep.modify.pose(position=rep.distribution.uniform((-25, -25, 0), (25, 25, 0)),\n",
    "                            rotation = rep.distribution.uniform((-15, -15, 0),(15, 15, 0)))\n",
    "    rep.randomizer.register(rand_box)"
   ]
  },
  {
   "cell_type": "code",
   "execution_count": null,
   "metadata": {},
   "outputs": [],
   "source": [
    "with rep.trigger.on_frame(max_execs = 10, interval =50):\n",
    "    rep.randomizer.rand_box()"
   ]
  }
 ],
 "metadata": {
  "language_info": {
   "name": "python"
  }
 },
 "nbformat": 4,
 "nbformat_minor": 2
}
