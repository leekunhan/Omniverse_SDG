{
 "cells": [
  {
   "cell_type": "code",
   "execution_count": null,
   "metadata": {},
   "outputs": [],
   "source": [
    "import omni.replicator.core as rep\n",
    "import numpy as np\n",
    "with rep.new_layer():\n",
    "    rep.set_global_seed(np.random.randint(0, 1000))\n",
    "    usd_path = \"omniverse://localhost/Projects/new_file.usd\"\n",
    "    asset = rep.create.from_usd(usd_path, semantics = [(\"class\", \"example\")], count = np.random.randint(0, 10))\n",
    "    with asset:\n",
    "    rep.modify.pose(position=rep.distribution.uniform((0, 0, 0), (100, 100, 100)),\n",
    "                    scale=rep.distribution.uniform(0.1, 10),\n",
    "                    rotation=rep.distribution.uniform((0, 0, 0), (100, 100, 100)))"
   ]
  }
 ],
 "metadata": {
  "language_info": {
   "name": "python"
  }
 },
 "nbformat": 4,
 "nbformat_minor": 2
}
