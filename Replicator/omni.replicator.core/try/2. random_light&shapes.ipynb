{
 "cells": [
  {
   "cell_type": "code",
   "execution_count": null,
   "metadata": {},
   "outputs": [],
   "source": [
    "import omni.replicator.core as rep\n",
    "import numpy as np\n",
    "\n",
    "with rep.new_layer():\n",
    "    rep.set_global_seed(np.random.randint(0, 1000))\n",
    "    # Create ground plane\n",
    "    plane = rep.create.plane(\n",
    "        position=(0, 0, 0),\n",
    "        rotation=(0, 0, 0),\n",
    "        scale=50,\n",
    "        # semantics=[(\"class\", \"ground\")]\n",
    "    )"
   ]
  },
  {
   "cell_type": "code",
   "execution_count": null,
   "metadata": {},
   "outputs": [],
   "source": [
    "    # Create light\n",
    "    cylinder_light = rep.create.light(\n",
    "        position = (0, 0, 10),\n",
    "        rotation=rep.distribution.uniform((0,-0,-180), (0,0,180)),\n",
    "        intensity=rep.distribution.normal(300000, 2),\n",
    "        temperature=rep.distribution.normal(6500, 4000),\n",
    "        light_type=\"cylinder\")\n",
    "    "
   ]
  },
  {
   "cell_type": "code",
   "execution_count": null,
   "metadata": {},
   "outputs": [],
   "source": [
    "# Create simple shapes to manipulate\n",
    "cubes = rep.create.cube(\n",
    "    semantics=[(\"class\", \"cube\")],\n",
    "    position=rep.distribution.uniform((-25, -25, 0), (25, 25, 0)),\n",
    "    count=6,\n",
    ")\n",
    "\n",
    "cones = rep.create.cone(\n",
    "    semantics=[(\"class\", \"cone\")],\n",
    "    position=rep.distribution.uniform((-25, -25, 0), (25, 25, 0)),\n",
    "    count=10,\n",
    ")"
   ]
  }
 ],
 "metadata": {
  "language_info": {
   "name": "python"
  }
 },
 "nbformat": 4,
 "nbformat_minor": 2
}
