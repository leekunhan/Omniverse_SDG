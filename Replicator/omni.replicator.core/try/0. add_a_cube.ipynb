{
 "cells": [
  {
   "cell_type": "code",
   "execution_count": null,
   "metadata": {},
   "outputs": [],
   "source": [
    "import omni.replicator.core as rep\n",
    "with rep.new_layer():\n",
    "    cubes = rep.create.cube(\n",
    "        semantics=[(\"class\", \"cube\")],\n",
    "        position=(0, 0, 2),\n",
    "        scale = 3,\n",
    "        count=1,\n",
    "    )"
   ]
  },
  {
   "cell_type": "code",
   "execution_count": null,
   "metadata": {},
   "outputs": [],
   "source": [
    "cylinder_light = rep.create.light(\n",
    "        position = (0, 0, 10),\n",
    "        rotation=rep.distribution.uniform((0,-0,-180), (0,0,180)),\n",
    "        intensity=rep.distribution.normal(300000, 2),\n",
    "        temperature=rep.distribution.normal(6500, 4000),\n",
    "        light_type=\"cylinder\")"
   ]
  },
  {
   "cell_type": "code",
   "execution_count": null,
   "metadata": {},
   "outputs": [],
   "source": [
    "plane = rep.create.plane(\n",
    "        position=(0, 0, 0),\n",
    "        rotation=(0, 0, 0),\n",
    "        scale=50,\n",
    "        semantics=[(\"class\", \"ground\")]\n",
    "    )"
   ]
  }
 ],
 "metadata": {
  "language_info": {
   "name": "python"
  }
 },
 "nbformat": 4,
 "nbformat_minor": 2
}
