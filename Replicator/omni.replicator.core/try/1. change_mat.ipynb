{
 "cells": [
  {
   "cell_type": "code",
   "execution_count": null,
   "metadata": {},
   "outputs": [],
   "source": [
    "import omni.replicator.core as rep\n",
    "import numpy as np\n",
    "\n",
    "with rep.new_layer():\n",
    "    rep.set_global_seed(np.random.randint(0, 1000))\n",
    "    # Create light\n",
    "    distance_light = rep.create.light(\n",
    "        position = (0, 0, 10),\n",
    "        rotation=(0, 0, 0),\n",
    "        intensity=300000,\n",
    "        temperature=6500,\n",
    "        light_type=\"cylinder\")\n",
    "    \n",
    "    # Create ground plane\n",
    "    plane = rep.create.plane(\n",
    "        position=(0, 0, 0),\n",
    "        rotation=(0, 0, 0),\n",
    "        scale=50,\n",
    "        semantics=[(\"class\", \"ground\")]\n",
    "    )\n"
   ]
  },
  {
   "cell_type": "code",
   "execution_count": null,
   "metadata": {},
   "outputs": [],
   "source": [
    "mat1 = rep.create.material_omnipbr(\n",
    "    diffuse=rep.distribution.uniform((0, 0, 0), (1, 1, 1)),\n",
    "    roughness=rep.distribution.uniform(0, 1),\n",
    "    metallic=rep.distribution.choice([0, 1]),\n",
    "    emissive_color=rep.distribution.uniform((0, 0, 0.5), (0, 0, 1)),\n",
    "    emissive_intensity=rep.distribution.uniform(0, 1000),\n",
    "    )\n",
    "\n",
    "# Create torus\n",
    "torus = rep.create.torus(\n",
    "    position=(0, 0, 0),\n",
    "    count=1,\n",
    "    scale = 10,\n",
    "    material = mat1,\n",
    "    semantics=[(\"shape\", \"torus\")]\n",
    ")\n"
   ]
  },
  {
   "cell_type": "code",
   "execution_count": null,
   "metadata": {},
   "outputs": [],
   "source": [
    "\n",
    "mat2 = rep.create.material_omnipbr(\n",
    "    diffuse_texture=rep.distribution.choice(rep.example.TEXTURES),\n",
    "    roughness_texture=rep.distribution.choice(rep.example.TEXTURES),\n",
    "    metallic_texture=rep.distribution.choice(rep.example.TEXTURES),\n",
    "    emissive_texture=rep.distribution.choice(rep.example.TEXTURES),\n",
    "    emissive_intensity=rep.distribution.uniform(0, 1000)\n",
    "    )\n",
    "\n",
    "# Create cube\n",
    "cube = rep.create.cube(\n",
    "    position=(0, -15, 5),\n",
    "    count=1,\n",
    "    scale = 10,\n",
    "    material = mat2,\n",
    "    semantics=[(\"shape\", \"cubes\")]\n",
    ")"
   ]
  }
 ],
 "metadata": {
  "language_info": {
   "name": "python"
  }
 },
 "nbformat": 4,
 "nbformat_minor": 2
}
