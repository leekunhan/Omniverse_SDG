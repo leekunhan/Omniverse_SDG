{
 "cells": [
  {
   "cell_type": "code",
   "execution_count": null,
   "metadata": {},
   "outputs": [],
   "source": [
    "from PIL import Image, ImageDraw, ImageFont\n",
    "import os\n",
    "import random"
   ]
  },
  {
   "cell_type": "code",
   "execution_count": null,
   "metadata": {},
   "outputs": [],
   "source": [
    "uppercase_letters = 'ABCDEFGHIJKLMNOPQRSTUVWXYZ abcdefghijklmnopqrstuvwxyz'"
   ]
  },
  {
   "cell_type": "code",
   "execution_count": null,
   "metadata": {},
   "outputs": [],
   "source": [
    "# set the height and width of sticker\n",
    "width = 900\n",
    "height = 400\n",
    "background_color = (255, 255, 255, 0)  # Transparent background, use RGBA mode"
   ]
  },
  {
   "cell_type": "code",
   "execution_count": null,
   "metadata": {},
   "outputs": [],
   "source": [
    "def add_word(text : str, text_x : int, text_y : int,font_size : int) -> None:\n",
    "    \"\"\"Add text to image\n",
    "\n",
    "    :param text: Text content to be glued\n",
    "    :type text: str\n",
    "    :param text_x: The x-axis position to be pasted\n",
    "    :type text_x: int\n",
    "    :param text_y: The y-axis position to be pasted\n",
    "    :type text_y: int\n",
    "    :param font_size: font size\n",
    "    :type font_size: int\n",
    "    \"\"\"\n",
    "    font_color = (0, 0, 0, 255)  # Set word color: The example here is black, using RGBA mode\n",
    "    font = ImageFont.truetype(\"arial.ttf\", font_size)  # Set font: Enter the font file location to set the font you want to display\n",
    "    draw.text((text_x, text_y), text, fill=font_color, font=font) # Add text to the image according to the specified position, and set the color and font\n"
   ]
  },
  {
   "cell_type": "code",
   "execution_count": null,
   "metadata": {},
   "outputs": [],
   "source": [
    "for i in range(1):\n",
    "    random_text = []\n",
    "\n",
    "    for _ in range(4):\n",
    "        # Randomly generate 70 uppercase and lowercase English numbers\n",
    "        random_letters = ''.join(random.choice(uppercase_letters) for _ in range(70))\n",
    "        random_text.append(random_letters)\n",
    "\n",
    "    # Create a blank image\n",
    "    image = Image.new(\"RGBA\", (width, height), background_color)\n",
    "    draw = ImageDraw.Draw(image)\n",
    "    corner_radius = 20\n",
    "    x1, y1 = 10, 10\n",
    "    x2, y2 = width - 10, height - 10\n",
    "    line_width = 5\n",
    "    rectangle_color = (255, 255, 255, 255)  # White, using RGBA mode\n",
    "    draw.rounded_rectangle([x1, y1, x2, y2], corner_radius, fill=rectangle_color, outline=rectangle_color, width=line_width)\n",
    "\n",
    "    text = \"WARNING: \"\n",
    "    add_word(text, 50, 150, 17)\n",
    "\n",
    "    # Add text to the image\n",
    "    add_word(random_text[0], 140, 152, 15)\n",
    "    add_word(random_text[1], 50, 180, 15)\n",
    "    add_word(random_text[2], 50, 210, 15)\n",
    "    add_word(random_text[3], 50, 240, 15)\n",
    "\n",
    "    # Save the generated image\n",
    "    save_path = \"ADD YOUR SAVE PATH\"\n",
    "    image.save(save_path)"
   ]
  }
 ],
 "metadata": {
  "kernelspec": {
   "display_name": "Python 3",
   "language": "python",
   "name": "python3"
  },
  "language_info": {
   "codemirror_mode": {
    "name": "ipython",
    "version": 3
   },
   "file_extension": ".py",
   "mimetype": "text/x-python",
   "name": "python",
   "nbconvert_exporter": "python",
   "pygments_lexer": "ipython3",
   "version": "3.11.4"
  },
  "orig_nbformat": 4
 },
 "nbformat": 4,
 "nbformat_minor": 2
}
