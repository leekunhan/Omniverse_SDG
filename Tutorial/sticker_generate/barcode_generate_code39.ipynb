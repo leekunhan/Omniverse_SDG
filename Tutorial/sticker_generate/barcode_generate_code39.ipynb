{
 "cells": [
  {
   "cell_type": "code",
   "execution_count": null,
   "metadata": {},
   "outputs": [],
   "source": [
    "import random\n",
    "random_barcode = []\n",
    "# Define uppercase English and numbers\n",
    "uppercase_letters = 'ABCDEFGHIJKLMNOPQRSTUVWXYZ'\n",
    "digits = '0123456789'\n",
    "\n",
    "n = 5000\n",
    "# Randomly generate n barcode contents\n",
    "for i in range(n):\n",
    "    # How many characters are required for each barcode content?\n",
    "    random_letters = ''.join(random.choice(uppercase_letters + digits) for i in range(20)) \n",
    "    # Store the output results in a list, which can be used later\n",
    "    random_barcode.append(random_letters) \n",
    "\n",
    "# Print results\n",
    "print(random_barcode)"
   ]
  },
  {
   "cell_type": "markdown",
   "metadata": {},
   "source": [
    "Generate the text just generated into a barcode according to the specified encoding rules, and store the barcode content as a file name in the specified location"
   ]
  },
  {
   "cell_type": "code",
   "execution_count": null,
   "metadata": {},
   "outputs": [],
   "source": [
    "import barcode\n",
    "from barcode.writer import ImageWriter\n",
    "\n",
    "# Set storage path\n",
    "save_path = \"Change to your path\"\n",
    "# Tour the contents of each list\n",
    "for i in range(len(random_barcode)):\n",
    "    input_word = random_barcode[i] \n",
    "    # Change barcode rules through get_barcode_class\n",
    "    # You can cahnge to other barcode rules such as code128, ean13, etc.\n",
    "    code39 = barcode.get_barcode_class('code39') \n",
    "    # Convert text to barcode\n",
    "    my_code39 = code39(input_word, writer=ImageWriter()) \n",
    "\n",
    "    # Set the size of the barcode, save the text content (input_word) of the barcode as the file name, and save the image to the path\n",
    "    fullname = my_code39.save(save_path + input_word , {\"module_height\" : 5.3, \"module_width\" : 0.145 , \"write_text\": False}) \n",
    "\n"
   ]
  }
 ],
 "metadata": {
  "kernelspec": {
   "display_name": "Python 3",
   "language": "python",
   "name": "python3"
  },
  "language_info": {
   "codemirror_mode": {
    "name": "ipython",
    "version": 3
   },
   "file_extension": ".py",
   "mimetype": "text/x-python",
   "name": "python",
   "nbconvert_exporter": "python",
   "pygments_lexer": "ipython3",
   "version": "3.11.4"
  },
  "orig_nbformat": 4
 },
 "nbformat": 4,
 "nbformat_minor": 2
}
